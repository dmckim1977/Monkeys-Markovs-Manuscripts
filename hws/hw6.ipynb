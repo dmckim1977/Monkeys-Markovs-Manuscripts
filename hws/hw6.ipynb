{
 "cells": [
  {
   "cell_type": "code",
   "execution_count": 15,
   "metadata": {},
   "outputs": [],
   "source": [
    "from fractions import Fraction\n",
    "from math import exp\n",
    "\n",
    "from scipy.optimize import fsolve\n",
    "from scipy.stats import poisson"
   ]
  },
  {
   "cell_type": "markdown",
   "metadata": {},
   "source": [
    "#### 1.1 (15 points) What is the probability that the number of forward jumps it takes her to jump over 9 for the first time (in forward direction), is exactly 4?"
   ]
  },
  {
   "cell_type": "code",
   "execution_count": 4,
   "metadata": {},
   "outputs": [
    {
     "data": {
      "text/plain": [
       "0.168717884924555"
      ]
     },
     "execution_count": 4,
     "metadata": {},
     "output_type": "execute_result"
    }
   ],
   "source": [
    "rate = 1/2 \n",
    "t = 9 \n",
    "\n",
    "# The number of events (jumps) before going over t, since we are looking for the 4th to be beyond 9\n",
    "n = 3 \n",
    "\n",
    "prob = poisson.pmf(n, rate*t)\n",
    "prob"
   ]
  },
  {
   "cell_type": "markdown",
   "metadata": {},
   "source": [
    "#### 1.2 (15 points) What is the probability that the number of backward jumps N it takes her to jump over 9 for the first time (in backward direction), is exactly 4?"
   ]
  },
  {
   "cell_type": "markdown",
   "metadata": {},
   "source": [
    "- First Jump Not Over 9: The probability that the first backward jump does not overshoot 9 is calculated using the memoryless property of exponential distributions. Given that the mean of the backward jump is 1 and the overshoot has a mean of 2, we find $$(P\\{Y < Z\\} = \\frac{2}{3})$$\n",
    "\n",
    "- Memoryless Property: Due to the memoryless property, the distribution of the distance after the first jump, assuming it did not overshoot, remains exponential with the same mean as the initial overshoot distance.\n",
    "\n",
    "- Recursive Probability: The overall probability $(P\\{N = 4\\})$ is determined by the recursive relationship involving the probabilities of needing fewer jumps, ultimately reducing to $(P\\{N = 1\\})$. <br> <br>\n",
    "\n",
    "$(P\\{N = 1\\})$ is $(1 - P\\{N > 1\\})$, which is $(\\frac{1}{3})$ because $(P\\{N > 1\\} = \\frac{2}{3})$. <br>\n",
    "$(P\\{N = 4\\})$ equals $(\\left(\\frac{2}{3}\\right)^3 \\times \\frac{1}{3})$, considering three instances where the jump is shorter than the overshoot and the final instance aligning with the required condition."
   ]
  },
  {
   "cell_type": "code",
   "execution_count": 5,
   "metadata": {},
   "outputs": [
    {
     "data": {
      "text/plain": [
       "0.0987654320987654"
      ]
     },
     "execution_count": 5,
     "metadata": {},
     "output_type": "execute_result"
    }
   ],
   "source": [
    "prob_N_equals_4 = (2/3)**3 * (1/3)\n",
    "prob_N_equals_4"
   ]
  },
  {
   "cell_type": "markdown",
   "metadata": {},
   "source": [
    "#### Problem 2: What is the probability that Bob will take a bus before Alice?"
   ]
  },
  {
   "cell_type": "code",
   "execution_count": 7,
   "metadata": {},
   "outputs": [
    {
     "data": {
      "text/plain": [
       "0.1487534400989532"
      ]
     },
     "execution_count": 7,
     "metadata": {},
     "output_type": "execute_result"
    }
   ],
   "source": [
    "rate_R1 = 1/20 \n",
    "rate_R2 = 1/10 \n",
    "time_interval = 30 \n",
    "\n",
    "prob_no_R1_buses = exp(-rate_R1 * time_interval)\n",
    "\n",
    "prob_first_bus_R2 = rate_R2 / (rate_R1 + rate_R2)\n",
    "\n",
    "prob_Bob_before_Alice = prob_no_R1_buses * prob_first_bus_R2\n",
    "\n",
    "prob_Bob_before_Alice"
   ]
  },
  {
   "cell_type": "markdown",
   "metadata": {},
   "source": [
    "#### Problem 3. Can this process be modeled as a CTMC? If so, what is the state space and transition rates (the $G_{ij}$ ’s)?"
   ]
  },
  {
   "cell_type": "markdown",
   "metadata": {},
   "source": [
    "Yes, process can be modeled as a CTMC \n",
    "\n",
    "**State Space:**\n",
    "\n",
    "1. **A1**: Alice holds the book and clock H1 is set.\n",
    "2. **A2**: Alice holds the book and clock H2 is set.\n",
    "3. **B**: Bob holds the book.\n",
    "4. **C**: Chris holds the book. \n",
    "\n",
    "\n",
    "**Transition Rates $(G_{ij})$:**\n",
    "\n",
    "From **Alice (A1)**, when H1 rings:\n",
    "- To Chris (**C**) with probability $1/4$, =  $4 * 1/4 = 1$ (since $EXP(4)$ with $1/4$ chance).\n",
    "- To herself but setting H2 (**A2**) with probability $3/4$ = $4 * 3/4 = 3$.\n",
    "\n",
    "From **Alice (A2)**, when H2 rings:\n",
    "- To Bob (**B**) with probability $1/2$ = $4 * 1/2 = 2$ (since $EXP(4)$ with $1/2$ chance).\n",
    "- To Chris (**C**) with probability $1/2$ = $4 * 1/2 = 2$.\n",
    "\n",
    "From **Bob (B)**:\n",
    "- To Alice (**A1**) = $2$ (alarm B-A, $EXP(2)$).\n",
    "- To Chris (**C**) = $5$ (alarm B-C, $EXP(5)$).\n",
    "\n",
    "From **Chris (C)**:\n",
    "- To Alice (**A1**) = $5$ (alarm C-A, $EXP(5)$).\n",
    "- To Bob (**B**) = $3$ (alarm C-B, $EXP(3)$)."
   ]
  },
  {
   "cell_type": "markdown",
   "metadata": {},
   "source": [
    "#### Problem 3. In the long-run, what is the fraction of time that Alice holds the book?"
   ]
  },
  {
   "cell_type": "code",
   "execution_count": 27,
   "metadata": {},
   "outputs": [
    {
     "data": {
      "text/plain": [
       "'In the long-run, the fraction of time that Alice holds the book is 287/465, 0.6172043010752688'"
      ]
     },
     "metadata": {},
     "output_type": "display_data"
    }
   ],
   "source": [
    "def equations(vars):\n",
    "    pi_B, pi_C, pi_A1, pi_A2 = vars\n",
    "    eq1 = pi_C * 8 - (pi_B * 5 + pi_A1 * 1 + pi_A2 * 2)\n",
    "    eq2 = pi_B * 7 - (pi_C * 3 + pi_A2 * 2)\n",
    "    eq3 = pi_A2 * 4 - pi_A1 * 3\n",
    "    eq4 = pi_B + pi_C + pi_A1 + pi_A2 - 1\n",
    "    return [eq1, eq2, eq3, eq4]\n",
    "\n",
    "\n",
    "initial_guesses = [0.25, 0.25, 0.25, 0.25]\n",
    "pi_B, pi_C, pi_A1, pi_A2 = fsolve(equations, initial_guesses)\n",
    "fraction_alice_holds_book = pi_A1 + pi_A2\n",
    "\n",
    "display(\n",
    "    f\"In the long-run, the fraction of time that Alice holds the book is {Fraction(fraction_alice_holds_book).limit_denominator()}, {fraction_alice_holds_book}\"\n",
    ")"
   ]
  },
  {
   "cell_type": "markdown",
   "metadata": {},
   "source": [
    "#### Problem 4. In the long-run, what is the average rate at which calls are actually taken for service? "
   ]
  },
  {
   "cell_type": "code",
   "execution_count": 28,
   "metadata": {},
   "outputs": [
    {
     "data": {
      "text/plain": [
       "'In the long-run, the average rate at which calls are actually taken for service is 0.4411764705882353 calls/hour'"
      ]
     },
     "metadata": {},
     "output_type": "display_data"
    }
   ],
   "source": [
    "lambda_arrival = 1\n",
    "mu_J = 1  # John's service rate (calls per hour)\n",
    "mu_M = 3 / 2  # Mary's service rate (calls per hour)\n",
    "\n",
    "\n",
    "def balance_equations(vars):\n",
    "    pi_0, pi_J, pi_M, pi_2 = vars\n",
    "    eq1 = pi_0 - (pi_J * mu_J + pi_M * mu_M)\n",
    "    eq2 = pi_J * mu_J - pi_2 * mu_M\n",
    "    eq3 = pi_M * mu_M - pi_2 * mu_J\n",
    "    eq4 = pi_0 + pi_J + pi_M + pi_2 - 1\n",
    "    return [eq1, eq2, eq3, eq4]\n",
    "\n",
    "\n",
    "initial_guesses = [0.25, 0.25, 0.25, 0.25]\n",
    "pi_0, pi_J, pi_M, pi_2 = fsolve(balance_equations, initial_guesses)\n",
    "lambda_pi_0 = pi_0\n",
    "\n",
    "display(\n",
    "    f\"In the long-run, the average rate at which calls are actually taken for service is {lambda_pi_0} calls/hour\"\n",
    ")"
   ]
  }
 ],
 "metadata": {
  "authors": [
   {
    "name": "Chris Lee"
   }
  ],
  "kernelspec": {
   "display_name": "Python 3",
   "language": "python",
   "name": "python3"
  },
  "language_info": {
   "codemirror_mode": {
    "name": "ipython",
    "version": 3
   },
   "file_extension": ".py",
   "mimetype": "text/x-python",
   "name": "python",
   "nbconvert_exporter": "python",
   "pygments_lexer": "ipython3",
   "version": "3.12.1"
  },
  "title": "IE 370, Spring 2024 Homework 6"
 },
 "nbformat": 4,
 "nbformat_minor": 2
}
