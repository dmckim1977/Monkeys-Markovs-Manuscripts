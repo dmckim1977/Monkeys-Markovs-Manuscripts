{
 "cells": [
  {
   "cell_type": "markdown",
   "metadata": {},
   "source": [
    "# Queueing Models\n",
    "- Feldman/Valdez-Flores: Chapters 7.1-7.3, 8.1.1\n",
    "<!-- - Ross: Chapters 8.1-8.3, 8.4.1, 8.9.1, 8.9.2 -->"
   ]
  },
  {
   "cell_type": "markdown",
   "metadata": {},
   "source": [
    "# **Chapter 7: Queueing Processes**\n",
    "- modeling techniques employed for queueing systems governed by the exponential process"
   ]
  },
  {
   "cell_type": "markdown",
   "metadata": {},
   "source": [
    "## **7.1 Basic Definitions and Notation**\n",
    "- A queueing process involves the arrival of customers to a service facility and the servicing of those customers\n",
    "- All customers that have arrived but are not yet being served are said to be in the queue\n",
    "- queueing system includes all customers in the queue and all customers in service\n",
    "\n",
    "![Img](images/feldman_floresfig_7.1.jpg)"
   ]
  },
  {
   "cell_type": "markdown",
   "metadata": {},
   "source": [
    "## **7.2 Single Server Systems**\n",
    "- simplest queueing systems to analyze are those involving a Poisson arrival process and a single exponential server\n",
    "- start by considering a system that has unlimited space for arriving customers and then move to systems with limited space"
   ]
  },
  {
   "cell_type": "markdown",
   "metadata": {},
   "source": [
    "### ***7.2.1 Infinite Capacity Single-Server Systems***\n",
    "\n",
    "- $M/M/1$ system or $M/M/1\\infty/FIFO$ system:\n",
    "  - assumes customers arrive according to a Poisson process with mean rate $λ$\n",
    "  - served by a single server whose time for service is random with an exponential distribution of mean $1/μ$\n",
    "  - if the server is idle and a customer arrives, then that customer enters the server immediately\n",
    "  - if the server is busy and a customer arrives, then the arriving customer enters the queue which has infinite capacity\n",
    "  - when service for a customer is completed, the customer leaves and the customer that had been in the queue the longest instantaneously enters the service facility and service begins again\n",
    "  - the flow of customers through the system is a Markov process $\\{N_t, t \\geq 0 \\}$ with state space $\\{0, 1, \\dots \\}$ where $N_t$ denotes the number of customers in the system at time $t$\n",
    "  - steady-state probabilities are $p_n = \\lim_{t \\rightarrow \\infty} \\Pr\\{N_t = n\\}$\n",
    "  - random variable $N$ with PMF $\\{p_0, p_1, \\dots \\}$ represents the number of customers in the system at steadystate\n",
    "  - $p_n$ represents the long-run probability that there are $n$ customers in the system or (in other words) the long-run fraction of time that the system contains $n$ customers\n",
    "  - random variable $N_q$ denote the steady-state number in the queue\n",
    "    - if the system is idle, $N_q = N$\n",
    "    - if the system is busy, $N_q = N −1$\n",
    "\n",
    "![Img](images/feldman_flores_fig7.2.jpg)\n",
    "\n",
    "![Img](images/feldman_flores_fig7.2_2.jpg)"
   ]
  },
  {
   "cell_type": "markdown",
   "metadata": {},
   "source": [
    "- Ratio $\\lambda / \\mu$ is called the ***traffic intensity*** for the queueing system and is denoted by $ρ$ for the $M/M/1$ system\n",
    "- $\\rho$ is usually defined as the arrival rate divided by the maximum system service rate\n",
    "\n",
    "![Img](images/feldman_flores_fig7.2_3.jpg)"
   ]
  },
  {
   "cell_type": "markdown",
   "metadata": {},
   "source": [
    "Once the derivation of the M/M/1 system is known, all other queueing system derivations in this text will be easy:\n",
    "1. Form the Markov generator matrix, $\\textbf{G}$ (Eq. 7.2).\n",
    "2. Obtain a system of equations by solving $\\textbf{pG} = 0$ (Eq. 7.1).\n",
    "3. Solve the system of equations in terms of $p_0$ by successive forward substitution and induction if possible (Eq. 7.4).\n",
    "4. Use the norming equation to find $p_0$ (Eq. 7.5)"
   ]
  },
  {
   "cell_type": "markdown",
   "metadata": {},
   "source": [
    "**Example 7.1:** An operator of a small grain elevator has a single unloading dock. Arrivals of trucks during the busy season form a Poisson process with a mean arrival rate of four per hour. Because of varying loads (and desire of the drivers to talk) the length of time each truck spends in front of the unloading dock is approximated by an exponential random variable with a mean time of 14 minutes. Assuming that the parking spaces are unlimited, the $M/M/1$ queueing system describes the waiting lines that form.\n",
    "\n",
    "- $\\lambda = 4 /hr$\n",
    "- $\\mu = \\frac{60}{14} /hr$ or $\\frac{1}{14} / min$\n",
    "- $\\rho = \\lambda / \\mu = 4/(60/14) = 0.93333333333$\n",
    "\n",
    "<br>\n",
    "\n",
    "- probability of the unloading dock being idle: \n",
    "$$\n",
    "p_0 = 1 - \\rho = 1 - 0.933333 = 0.0667 \n",
    "$$\n",
    "\n",
    "- probability that there are exactly three trucks waiting:\n",
    "$$\n",
    "\\Pr\\{N_q = 3\\} = \\Pr\\{N = 4\\} = p_4 = 0.9333^4 \\times 0.0667  = 0.05\n",
    "$$\n",
    "\n",
    "- the probability that four or more trucks are in the system:\n",
    "$$\n",
    "\\Pr\\{N \\geq 4 \\} = \\sum_{n = 4}^\\infty p_n = (1 - \\rho) \\sum_{n=4}^\\infty \\rho^n = \\rho^4 = 0.0667^4 = 0.759 \n",
    "$$"
   ]
  },
  {
   "cell_type": "code",
   "execution_count": 7,
   "metadata": {},
   "outputs": [],
   "source": [
    "def calc_vect_p(rho, lambda_v, mu, n):\n",
    "    vect_p = []\n",
    "    vect_p.append(1 - rho)\n",
    "    vect_p.append((lambda_v / mu) * (1 - rho))\n",
    "    for i in range(1, n):\n",
    "        p_n_plus_1 = (((lambda_v + mu) / mu) * vect_p[i]) - (\n",
    "            (lambda_v / mu) * vect_p[i - 1]\n",
    "        )\n",
    "        vect_p.append(p_n_plus_1)\n",
    "    return vect_p"
   ]
  },
  {
   "cell_type": "code",
   "execution_count": 8,
   "metadata": {},
   "outputs": [
    {
     "data": {
      "text/plain": [
       "[0.06667000000000001,\n",
       " 0.06222533333333334,\n",
       " 0.058076977777777775,\n",
       " 0.05420517925925923,\n",
       " 0.05059150064197525]"
      ]
     },
     "execution_count": 8,
     "metadata": {},
     "output_type": "execute_result"
    }
   ],
   "source": [
    "calc_vect_p(rho=0.93333, lambda_v=4, mu=(60/14), n=4)"
   ]
  },
  {
   "cell_type": "markdown",
   "metadata": {},
   "source": [
    "Several measures of effectiveness are useful as descriptors of queueing systems.\n",
    "- expected number of customers in the system, denoted by $L$\n",
    "\n",
    "$$L = E[N] = \\sum_{n=0}^{\\infty} np_n \\quad \\quad \\quad (7.7) \n",
    "$$\n",
    "$$\n",
    "= \\sum_{n=1}^{\\infty} np_n \n",
    "$$\n",
    "$$\n",
    "= \\sum_{n=1}^{\\infty} n\\rho^n(1-\\rho) \n",
    "$$\n",
    "$$\n",
    "= (1-\\rho)\\rho \\sum_{n=1}^{\\infty} n\\rho^{n-1} = \\frac{\\rho}{1-\\rho}\n",
    "$$\n",
    "\n",
    "<br>\n",
    "\n",
    "- expected number in the queue, denoted by $L_q$\n",
    "\n",
    "$$L_q = 0\\times(p_0 + p_1) + \\sum_{n=1}^{\\infty} np_{n+1} \\quad \\quad \\quad (7.8) \n",
    "$$\n",
    "$$\n",
    "= \\sum_{n=1}^{\\infty} n\\rho^{n+1}(1-\\rho) \n",
    "$$\n",
    "$$\n",
    "= (1-\\rho)\\rho^2 \\sum_{n=1}^{\\infty} n\\rho^{n-1} = \\frac{\\rho^2}{1-\\rho}\n",
    "$$\n",
    "\n",
    "- the variance of the number in the system and queue:\n",
    "\n",
    "$$V[N] = \\frac{\\rho}{(1-\\rho)^2} \\quad \\quad \\quad (7.9)$$\n",
    "$$V[N_q] = \\frac{\\rho^2(1+\\rho-\\rho^2)}{(1-\\rho)^2} \\quad \\quad \\quad (7.10)$$"
   ]
  },
  {
   "cell_type": "markdown",
   "metadata": {},
   "source": [
    "Show relationship between the mean number waiting and average length of time a customer waits. Little [4] showed in 1961 that for almost all steady-state queueing systems there is a simple relationship between the mean number in the system, the mean waiting times, and the arrival rates.\n",
    "\n",
    "**Property 7.1:** ***Little’s Law***. Consider a queueing system for which steadystate occurs. Let $L = E[N]$ denote the mean long-run number in the system, $W = E[T]$ denote the mean long-run waiting time within the system, and $λ_e$ the mean arrival rate of jobs into the system. Also let $L_q = E[Nq]$ and $Wq = E[Tq]$ denote the analogous quantities restricted to the queue. Then\n",
    "\n",
    "$$\n",
    "L = λ_eW\n",
    "$$\n",
    "$$\n",
    "L_q = λ_e W_q\n",
    "$$\n",
    "\n",
    "<br>\n",
    "\n",
    "Difference between effective mean arrival rate in system $\\lambda_e$ and mean arrivial rate to the system $\\lambda$\n",
    "  - $\\lambda$ includes those customers who come to the system but for some reason, like a finite capacity system that is full, they do not enter\n",
    "  - $λ_e$ only counts those customers who make it to the server\n",
    "\n",
    "<br>\n",
    "\n",
    "For the $M/M/1$ system, the effective arrival rate is the same as the arrival rate (i.e., $λ_e = λ$);\n",
    "$$\n",
    "W = E[T] = \\frac{1}{μ −λ}\n",
    "$$\n",
    "$$\n",
    "W_q = E[T_q] = \\frac{ρ}{μ −λ}\n",
    "$$\n",
    "\n",
    "- $T$ is the random variable denoting the time a customer (in steady-state) spends in the system\n",
    "- $T_q$ is the random variable for the time spent in the queue\n"
   ]
  },
  {
   "cell_type": "markdown",
   "metadata": {},
   "source": [
    "When the arrival process is Poisson, there is a generalization of Little’s formula that holds for variances:\n",
    "\n",
    "**Property 7.2:** Consider a queueing system for which steady-state occurs and with a Poisson arrival stream of customers entering the system. Let $N$ denote the number in the system, $T$ denote the customer waiting time within the system, and $λ_e$ the mean arrival rate of jobs into the system. Also let $N_q$ and $T_q$ denote the analogous quantities restricted to the queue. Then the following hold:\n",
    "\n",
    "$$\n",
    "V[N]−E[N] = λ_e^2 V[T]\n",
    "$$\n",
    "$$\n",
    "V[N_q]−E[N_q] = λ_e^2 V[T_q] \n",
    "$$\n",
    "\n",
    "- Little’s Law (Property 7.1) is a very powerful result because of its generality\n",
    "- The version applied to variances (Property 7.2) is not quite as powerful since it is restricted to Poisson arrivals\n",
    "\n",
    "<br>\n",
    "\n",
    "Applying Property 7.2 to the $M/M/1$ system:\n",
    "$$\n",
    "V[T] = \\frac{1}{(μ −λ)^2} = \\frac{1}{μ^2( 1 − ρ)^2}\n",
    "$$\n",
    "\n",
    "$$\n",
    "V[T_q] = \\frac{2ρ −ρ^2}{(μ −λ)^2} = \\frac{ρ(2−ρ)}{μ^2(1−ρ)^2} \n",
    "$$"
   ]
  },
  {
   "cell_type": "markdown",
   "metadata": {},
   "source": [
    "Using **Example 7.1**:\n",
    "\n",
    "the mean number of trucks in the system:  (Eq. 7.7)\n",
    "$$\n",
    "L =  0.93333333333 / (1 -  0.93333333333) = 14,\n",
    "$$\n",
    "\n",
    "with a standard deviation:  (Eq. 7.9)\n",
    "$$\n",
    "V[N] = 0.93333333333 / (1 - 0.93333333333)^2 = 209.999999978, \\sqrt(209.999999978) = 14.4913767454\n",
    "$$\n",
    "\n",
    "the mean number of trucks in the queue:  (Eq. 7.8)\n",
    "$$\n",
    "L_q = 0.93333333333^2 / (1 - 0.93333333333) = 13.0666666659\n",
    "$$\n",
    "\n",
    "with a standard deviation: (Eq. 7.10)\n",
    "$$\n",
    "V[N_q] = (0.93333333333^2 \\times (1 + 0.93333333333 - 0.93333333333^2)) / (1 - 0.93333333333)^2 = 208.1955555338152, sqrt(208.1955555338152) = 14.428983177404263\n",
    "$$\n",
    "\n",
    "the mean time each truck spends in the system: (Eq. 7.11)\n",
    "$$\n",
    "W = 1 / (\\frac{60}{14} - 4) = 3.5000000000000018 \\text{ hours}\n",
    "$$\n",
    "\n",
    "with a standard deviation (Eq. 7.12)\n",
    "$$\n",
    "V[T] = 1 / (\\frac{60}{14} - 4)^2 = 12.25000000000001, \\sqrt(12.25000000000001) = 3.5000000000000013 \\text{ hours}\n",
    "$$\n",
    "\n",
    "the mean time each truck spends in the system: (Eq. 7.11)\n",
    "$$\n",
    "W_q = 0.93333333333 / (\\frac{60}{14} - 4) = 3.2666666666550017 \\text{ hours}\n",
    "$$\n",
    "\n",
    "with a standard deviation (Eq. 7.12)\n",
    "$$\n",
    "V[T_q] = 0.93333333333 / (\\frac{60}{14} - 4)^2 = 11.433333333292511, \\sqrt(12.25000000000001) = 3.3813212407714994 \\text{ hours}\n",
    "$$\n"
   ]
  },
  {
   "cell_type": "markdown",
   "metadata": {},
   "source": [
    "The mean waiting time in the system must equal the mean time in the queue plus the mean service time; \n",
    "\n",
    "**Property 7.3** Consider a queueing system for which steady-state occurs. Let W denote the mean long-run waiting time within the system, Wq the mean long-run waiting time in the queue, and μ the mean service rate; then\n",
    "\n",
    "$$\n",
    "W = W_q + \\frac{1}{\\mu}\n",
    "$$\n",
    "\n",
    "- Notice that this property is general like Little’s Law; namely, it holds for nonexponential and multi-server systems as well as for finite and infinite capacity systems."
   ]
  },
  {
   "cell_type": "markdown",
   "metadata": {},
   "source": [
    "**Example 7.2:** A large car dealer has a policy of providing cars for its customers that have car problems. When a customer brings the car in for repair, that customer has use of a dealer’s car. The dealer estimates that the dealer cost for providing the service is $10 per day for as long as the customer’s car is in the shop. (Thus, if the customer’s car was in the shop for 1.5 days, the dealer’s cost would be $15.) Arrivals to the shop of customers with car problems form a Poisson process with a mean rate of one every other day. There is one mechanic dedicated to those customer’s cars. The time that the mechanic spends on a car can be described by an exponential random variable with a mean of 1.6 days. We would like to know the expected cost per day of this policy to the car dealer.\n",
    "\n",
    "- Assuming infinite capacity, so assumptions of $M/M/1$ queue:\n",
    "  - $λ = 0.5/day$, 1 arrival every other day\n",
    "  - $μ = 1 / 1.6 = 0.625/day$, (reciprocal of the mean service time)\n",
    "  - $ρ = 0.5 / 0.625 = 0.8$\n",
    "\n",
    "- Using $M/M/1$ equations: \n",
    "  - $L = 0.5 * (1 / (0.625 - 0.5)) = 4$\n",
    "  - $W = (1 / (0.625 - 0.5) = 8$\n",
    "\n",
    "\n",
    "- whenever a customer comes in with car problems, it will cost the dealer $80 dollars\n",
    "- Since a customer comes in every other day (on the average) the total cost to the dealer for this policy is $40 per day.\n",
    "  - $10 \\times W \\times \\lambda$\n",
    "  - By Little's Law, $10 \\times L$\n",
    "- the expected system cost per time unit is $cL$"
   ]
  },
  {
   "cell_type": "markdown",
   "metadata": {},
   "source": [
    "### ***7.2.2 Finite Capacity Single Server Systems***\n",
    "- The assumption of infinite capacity is often not suitable.\n",
    "- M/M/1/K system:\n",
    "\n",
    "![Img](images/feldman_flores_ex7.2.2_1.jpg)\n",
    "\n",
    "![Img](images/feldman_flores_ex7.2.2_2.jpg)"
   ]
  },
  {
   "cell_type": "code",
   "execution_count": 26,
   "metadata": {},
   "outputs": [],
   "source": [
    "class M_M_1_K:\n",
    "    @staticmethod\n",
    "    def p_0(rho, K):\n",
    "        if rho == 1:\n",
    "            return 1 / (K + 1)\n",
    "        return (1 - rho) / (1 - rho ** (K + 1))\n",
    "\n",
    "    @staticmethod\n",
    "    def p_n(rho, n, K):\n",
    "        if rho == 1:\n",
    "            return 1 / (K + 1)\n",
    "        return rho**n * ((1 - rho) / (1 - rho ** (K + 1)))\n",
    "\n",
    "    @staticmethod\n",
    "    def L(rho, K):\n",
    "        if rho == 1:\n",
    "            return K / 2\n",
    "        return rho * (\n",
    "            (1 + K * rho ** (K + 1) - (K + 1) * rho**K)\n",
    "            / ((1 - rho) * (1 - rho ** (K + 1)))\n",
    "        )\n",
    "\n",
    "    @staticmethod\n",
    "    def L_q(rho, K):\n",
    "        if rho == 1:\n",
    "            return (K * (K - 1)) / (2 * (K + 1))\n",
    "        L = M_M_1_K.L(rho, K)\n",
    "        return L - ((rho * (1 - rho**K)) / (1 - rho ** (K + 1)))\n",
    "\n",
    "    @staticmethod\n",
    "    def V_N(rho, K):\n",
    "        if rho == 1:\n",
    "            return (K * (K + 2)) / 12\n",
    "        L = M_M_1_K.L(rho, K)\n",
    "        term1 = rho / (1 - rho ** (K + 1)) * (1 - rho) ** 2\n",
    "        term2 = (\n",
    "            1\n",
    "            + rho\n",
    "            - (K + 1) ** 2 * rho**K\n",
    "            + (2 * K**2 + 2 * K - 1) * rho ** (K + 1)\n",
    "            - K**2 * rho ** (K + 2)\n",
    "        )\n",
    "        return term1 * term2 - L**2\n",
    "\n",
    "    @staticmethod\n",
    "    def V_Nq(rho, K):\n",
    "        V_N = M_M_1_K.V_N(rho, K)\n",
    "        L = M_M_1_K.L(rho, K)\n",
    "        L_q = M_M_1_K.L_q(rho, K)\n",
    "        p_0 = M_M_1_K.p_0(rho, K)\n",
    "        return V_N - p_0 * (L + L_q)\n",
    "\n",
    "\n",
    "# e probability that an arriving customer enters the system is the probability that the system is not full\n",
    "def W(L, lambda_v, p_k):\n",
    "    return L / (lambda_v * (1 - p_k))\n",
    "\n",
    "\n",
    "def W_q(L, lambda_v, p_k, mu):\n",
    "    W_v = W(L, lambda_v, p_k)\n",
    "    return W_v - (1 / mu)"
   ]
  },
  {
   "cell_type": "markdown",
   "metadata": {},
   "source": [
    "**Example 7.3:** A corporation must maintain a large fleet of tractors. They have one repairman that works on the tractors as they break down on a first-come first-serve basis. The arrival of tractors to the shop needing repair work is approximated by a Poisson distribution with a mean rate of three per week. The length of time needed for repair varies according to an exponential distribution with a mean repair time of 1/2 week per tractor. The current corporate policy is to utilize an outside repair shop whenever more than two tractors are in the company shop so that, at most, one tractor is allowed to wait. Each week that a tractor spends in the shop costs the company $100. To utilize the outside shop costs $500 per tractor. (The $500 includes lost time.) We wish to review corporate policy and determine the optimum cutoff point for the outside shop; that is, we shall determine the maximum number allowed in the company shop before sending tractors to the outside repair facility."
   ]
  },
  {
   "cell_type": "markdown",
   "metadata": {},
   "source": [
    "- $M/M/1/2$ system\n",
    "- $λ = 3/week$\n",
    "- $μ = 2/week$, (reciprocal of the mean repair time)\n",
    "- $ρ = 3 / 2 = 1.5$\n",
    "- $Cost = 100L + 500 λ p_K$"
   ]
  },
  {
   "cell_type": "code",
   "execution_count": 32,
   "metadata": {},
   "outputs": [],
   "source": [
    "def calc_cost(lambda_v, rho, n, K):\n",
    "    L = M_M_1_K.L(rho, K)\n",
    "    p_k = M_M_1_K.p_n(rho, n, K)\n",
    "    print(\"L: \",L, \" p_k: \", p_k)\n",
    "    return 100 * L + 500 * lambda_v * p_k "
   ]
  },
  {
   "cell_type": "code",
   "execution_count": 33,
   "metadata": {},
   "outputs": [
    {
     "name": "stdout",
     "output_type": "stream",
     "text": [
      "L:  1.263157894736842  p_k:  0.47368421052631576\n",
      "cost k = 2:  836.8421052631578\n",
      "L:  1.9846153846153847  p_k:  0.4153846153846154\n",
      "cost k = 3:  821.5384615384615\n",
      "L:  2.758293838862559  p_k:  0.38388625592417064\n",
      "cost k = 4:  851.658767772512\n"
     ]
    }
   ],
   "source": [
    "print(\"cost k = 2: \", calc_cost(3, 1.5, 2, 2))\n",
    "print(\"cost k = 3: \", calc_cost(3, 1.5, 3, 3))\n",
    "print(\"cost k = 4: \", calc_cost(3, 1.5, 4, 4))"
   ]
  },
  {
   "cell_type": "markdown",
   "metadata": {},
   "source": [
    "## **7.3 Multiple Server Queues**\n",
    "\n",
    "![Img](images/feldman_flores_fig7.4.jpg)\n",
    "\n",
    "![Img](images/feldman_flores_7.3_1.jpg)\n",
    "\n",
    "![Img](images/feldman_flores_7.3_2.jpg)\n",
    "\n",
    "![Img](images/feldman_flores_7.3_3.jpg)"
   ]
  },
  {
   "cell_type": "code",
   "execution_count": 59,
   "metadata": {},
   "outputs": [],
   "source": [
    "import math\n",
    "\n",
    "\n",
    "class M_M_c:\n",
    "    @staticmethod\n",
    "    def p_0(n, c, r):\n",
    "        return (((c * r**c) / (math.factorial(c) * (c - r))) + sum(\n",
    "            [(r**n / math.factorial(n)) for _ in range(0, c)]\n",
    "        ))**-1\n",
    "\n",
    "    @staticmethod\n",
    "    def p_n(n, c, r):\n",
    "        p_0 = M_M_c.p_0(n, c, r)\n",
    "        if n < c:\n",
    "            return (p_0 * r**n) / math.factorial(n)\n",
    "        return (p_0 * r**n) / (c ** (n - c) * math.factorial(c))\n",
    "\n",
    "    @staticmethod\n",
    "    def L_q(p_0, n, c, r, rho):\n",
    "        p_0 = M_M_c.p_0(n, c, r)\n",
    "        return (p_0 * r**c * rho) / (math.factorial(c) * (1 - rho) ** 2)\n",
    "\n",
    "    @staticmethod\n",
    "    def L(p_0, n, c, r, rho):\n",
    "        p_0 = M_M_c.p_0(n, c, r)\n",
    "        return M_M_c.L_q(p_0, n, c, r, rho) + r\n",
    "\n",
    "    @staticmethod\n",
    "    def W_q(p_0, n, c, r, rho, lambda_v):\n",
    "        p_0 = M_M_c.p_0(n, c, r)\n",
    "        return M_M_c.L_q(p_0, n, c, r, rho) / lambda_v\n",
    "\n",
    "    @staticmethod\n",
    "    def W(p_0, n, c, r, rho, mu):\n",
    "        p_0 = M_M_c.p_0(n, c, r)\n",
    "        return M_M_c.L_q(p_0, n, c, r, rho) / (1 / mu)\n",
    "\n",
    "    @staticmethod\n",
    "    def E_Nq_Nq_minus_1(n, c, r, rho):\n",
    "        p_0 = M_M_c.p_0(n, c, r)\n",
    "        return (2 * p_0 * r * rho**2 * c) / (math.factorial(c) * (1 - rho) ** 3)\n",
    "\n",
    "    @staticmethod\n",
    "    def E_Tq_squared(n, c, r, rho, mu):\n",
    "        p_0 = M_M_c.p_0(n, c, r)\n",
    "        return (2 * p_0 * r * rho) / (mu**2 * c**2 * math.factorial(c) * (1 - rho) ** 3)\n",
    "\n",
    "    @staticmethod\n",
    "    def V_T(n, c, r, rho, mu):\n",
    "        E_Tq_squared = M_M_c.E_Tq_squared(n, c, r, rho, mu)\n",
    "        return E_Tq_squared + 1 / mu**2\n",
    "\n",
    "    @staticmethod\n",
    "    def V_N(n, c, r, rho, mu, lmbda):\n",
    "        V_T = M_M_c.V_T(n, c, r, rho, mu)\n",
    "        return lmbda**2 * V_T + lmbda"
   ]
  },
  {
   "cell_type": "markdown",
   "metadata": {},
   "source": [
    "**Example 7.4:** The corporation from the previous example has implemented the policy of never allowing more than three tractors in their repair shop. For $600 per week, they can hire a second repairman. Is it worthwhile to do so if the expected cost is used as the criterion? To answer this question, the old cost for the M/M/1/3 system (refer back to page 212) is compared to the proposed cost for an M/M/2/3 system.\n",
    "\n",
    "$$ \n",
    "\\lambda_n = \n",
    "    \\begin{cases} \n",
    "    \\lambda & \\text{for } n = 0, 1, 2 \\\\\n",
    "    0 & \\text{for } n = 3, 4, \\dots \n",
    "    \\end{cases} \n",
    "$$\n",
    "\n",
    "$$ \\mu_n = \n",
    "    \\begin{cases} \n",
    "    \\mu & \\text{for } n = 1 \\\\\n",
    "    2\\mu & \\text{for } n = 2 \\text{ and } 3\n",
    "    \\end{cases} \n",
    "$$\n",
    "\n",
    "    \n",
    "where $\\lambda = \\frac{3}{\\text{week}}$ and $\\mu = \\frac{2}{\\text{week}}$.\n",
    "\n"
   ]
  },
  {
   "cell_type": "code",
   "execution_count": 61,
   "metadata": {},
   "outputs": [
    {
     "data": {
      "text/plain": [
       "0.24242424242424243"
      ]
     },
     "execution_count": 61,
     "metadata": {},
     "output_type": "execute_result"
    }
   ],
   "source": [
    "# lambda_n = [3,3,3,0,0]\n",
    "# mu = 2\n",
    "# r = lambda_v / mu\n",
    "# c = 3\n",
    "# rho = r / c \n",
    "\n",
    "# p_0 = M_M_c.p_0(n=0, c=c, r=r)\n",
    "# p_0"
   ]
  },
  {
   "cell_type": "markdown",
   "metadata": {},
   "source": [
    "# Queueing Networks\n",
    "## **8.1 Jackson Networks**\n"
   ]
  },
  {
   "cell_type": "markdown",
   "metadata": {},
   "source": [
    "### ***8.1.1 Open Jackson Networks***"
   ]
  },
  {
   "cell_type": "markdown",
   "metadata": {},
   "source": []
  }
 ],
 "metadata": {
  "kernelspec": {
   "display_name": "Python 3",
   "language": "python",
   "name": "python3"
  },
  "language_info": {
   "codemirror_mode": {
    "name": "ipython",
    "version": 3
   },
   "file_extension": ".py",
   "mimetype": "text/x-python",
   "name": "python",
   "nbconvert_exporter": "python",
   "pygments_lexer": "ipython3",
   "version": "3.12.1"
  }
 },
 "nbformat": 4,
 "nbformat_minor": 2
}
